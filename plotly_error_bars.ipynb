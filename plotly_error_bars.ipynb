version https://git-lfs.github.com/spec/v1
oid sha256:8769d64cbc3e385b7540c9ed6bd77bddb284edcaef850f6ee4faf53a65cd8d40
size 21728
