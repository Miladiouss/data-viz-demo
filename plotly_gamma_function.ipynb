version https://git-lfs.github.com/spec/v1
oid sha256:1a35742baa3a21237cd32c94358fa19cf3d145c30da8a4d7f93c937534cedc4d
size 21626
