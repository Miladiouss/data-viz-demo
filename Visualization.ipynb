version https://git-lfs.github.com/spec/v1
oid sha256:174ee00459d9f69b802d58e2960beca6bcebf21b20e6be49f1a663e60e5b7085
size 8167461
